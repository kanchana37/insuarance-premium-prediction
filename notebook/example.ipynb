{
 "cells": [
  {
   "cell_type": "code",
   "execution_count": 9,
   "metadata": {},
   "outputs": [],
   "source": [
    "from collections import namedtuple"
   ]
  },
  {
   "cell_type": "code",
   "execution_count": 10,
   "metadata": {},
   "outputs": [],
   "source": [
    "from insurance.entity.config_entity import DataIngestionConfig\n",
    "import sys,os\n",
    "from insurance.exception import PackageException\n",
    "from insurance.logger import logging\n",
    "from insurance.entity.artifact_entity import DataIngestionArtifact\n",
    "import tarfile\n",
    "import numpy as np\n",
    "from six.moves import urllib\n",
    "import pandas as pd\n",
    "from sklearn.model_selection import StratifiedShuffleSplit\n"
   ]
  },
  {
   "cell_type": "code",
   "execution_count": 11,
   "metadata": {},
   "outputs": [],
   "source": [
    "def __init__(self,data_ingestion_config:DataIngestionConfig ):\n",
    "            logging.info(f\"{'>>'*20}Data Ingestion log started.{'<<'*20} \")\n",
    "            self.data_ingestion_config = data_ingestion_config"
   ]
  },
  {
   "cell_type": "code",
   "execution_count": 12,
   "metadata": {},
   "outputs": [],
   "source": [
    "    def download_insurance_data(self) -> str:\n",
    "            download_url = self.data_ingestion_config.dataset_download_url\n",
    "            os.path.basename(dataset_download_url)"
   ]
  },
  {
   "cell_type": "markdown",
   "metadata": {},
   "source": [
    "1.Download url\n",
    "2.Download folder (compressed file)\n",
    "3.Extract folder (extracted file)\n",
    "4.Train dataset folder\n",
    "5.Test dataset folder"
   ]
  },
  {
   "cell_type": "code",
   "execution_count": 13,
   "metadata": {},
   "outputs": [],
   "source": [
    "dataset_download_url:' https://drive.google.com/uc?id=1zZxmaFh07scM6kzJB9PUSGx4JCIfNaTr&export=download'\n"
   ]
  },
  {
   "cell_type": "code",
   "execution_count": 14,
   "metadata": {},
   "outputs": [
    {
     "ename": "NameError",
     "evalue": "name 'dataset_download_url' is not defined",
     "output_type": "error",
     "traceback": [
      "\u001b[1;31m---------------------------------------------------------------------------\u001b[0m",
      "\u001b[1;31mNameError\u001b[0m                                 Traceback (most recent call last)",
      "\u001b[1;32m~\\AppData\\Local\\Temp\\ipykernel_972\\3818129705.py\u001b[0m in \u001b[0;36m<module>\u001b[1;34m\u001b[0m\n\u001b[1;32m----> 1\u001b[1;33m \u001b[0mos\u001b[0m\u001b[1;33m.\u001b[0m\u001b[0mpath\u001b[0m\u001b[1;33m.\u001b[0m\u001b[0mbasename\u001b[0m\u001b[1;33m(\u001b[0m\u001b[0mdataset_download_url\u001b[0m\u001b[1;33m)\u001b[0m\u001b[1;33m\u001b[0m\u001b[0m\n\u001b[0m",
      "\u001b[1;31mNameError\u001b[0m: name 'dataset_download_url' is not defined"
     ]
    }
   ],
   "source": [
    "os.path.basename(dataset_download_url)"
   ]
  },
  {
   "cell_type": "code",
   "execution_count": null,
   "metadata": {},
   "outputs": [],
   "source": [
    "dataset_download_url=' https://www.kaggle.com/datasets/noordeen/insurance-premium-prediction'"
   ]
  },
  {
   "cell_type": "code",
   "execution_count": null,
   "metadata": {},
   "outputs": [],
   "source": [
    "import os"
   ]
  },
  {
   "cell_type": "code",
   "execution_count": null,
   "metadata": {},
   "outputs": [
    {
     "data": {
      "text/plain": [
       "'insurance-premium-prediction'"
      ]
     },
     "execution_count": 38,
     "metadata": {},
     "output_type": "execute_result"
    }
   ],
   "source": [
    "os.path.basename(dataset_download_url)"
   ]
  },
  {
   "cell_type": "code",
   "execution_count": null,
   "metadata": {},
   "outputs": [],
   "source": [
    "DataIngestionConfig=namedtuple(\"DataIngestionConfig\",[\"dataset_download_url\",\"tgz_download_dir\",\"raw_data_dir\",\"ingested_train_dir\",\"ingested_test_dir\"])"
   ]
  },
  {
   "cell_type": "code",
   "execution_count": null,
   "metadata": {},
   "outputs": [],
   "source": [
    "data_ingestion_config = DataIngestionConfig(dataset_download_url=\"asfasdf\",\n",
    "tgz_download_dir='asdasd',\n",
    "raw_data_dir=\"asdas\",\n",
    "ingested_train_dir=\"asdbfk\",\n",
    "ingested_test_dir=\"sadnjk\"\n",
    ")"
   ]
  },
  {
   "cell_type": "code",
   "execution_count": null,
   "metadata": {},
   "outputs": [
    {
     "data": {
      "text/plain": [
       "DataIngestionConfig(dataset_download_url='asfasdf', tgz_download_dir='asdasd', raw_data_dir='asdas', ingested_train_dir='asdbfk', ingested_test_dir='sadnjk')"
      ]
     },
     "execution_count": 4,
     "metadata": {},
     "output_type": "execute_result"
    }
   ],
   "source": [
    "data_ingestion_config"
   ]
  },
  {
   "cell_type": "code",
   "execution_count": null,
   "metadata": {},
   "outputs": [],
   "source": [
    "import os"
   ]
  },
  {
   "cell_type": "code",
   "execution_count": null,
   "metadata": {},
   "outputs": [
    {
     "data": {
      "text/plain": [
       "'c:\\\\Users\\\\aryan\\\\insurance premium prediction\\\\notebook'"
      ]
     },
     "execution_count": 6,
     "metadata": {},
     "output_type": "execute_result"
    }
   ],
   "source": [
    "os.getcwd()"
   ]
  },
  {
   "cell_type": "code",
   "execution_count": null,
   "metadata": {},
   "outputs": [],
   "source": [
    "os.chdir(\"c:\\\\Users\\\\aryan\\\\insurance premium prediction\")"
   ]
  },
  {
   "cell_type": "code",
   "execution_count": null,
   "metadata": {},
   "outputs": [
    {
     "data": {
      "text/plain": [
       "['$Recycle.Bin',\n",
       " '$WinREAgent',\n",
       " 'Android',\n",
       " 'Documents and Settings',\n",
       " 'DumpStack.log',\n",
       " 'DumpStack.log.tmp',\n",
       " 'hiberfil.sys',\n",
       " 'Intel',\n",
       " 'OEM',\n",
       " 'OneDriveTemp',\n",
       " 'pagefile.sys',\n",
       " 'PerfLogs',\n",
       " 'Program Files',\n",
       " 'Program Files (x86)',\n",
       " 'ProgramData',\n",
       " 'Recovery',\n",
       " 'swapfile.sys',\n",
       " 'System Volume Information',\n",
       " 'TempPatchCD',\n",
       " 'Users',\n",
       " 'Windows']"
      ]
     },
     "execution_count": 8,
     "metadata": {},
     "output_type": "execute_result"
    }
   ],
   "source": [
    "os.listdir(\"/\")"
   ]
  },
  {
   "cell_type": "code",
   "execution_count": null,
   "metadata": {},
   "outputs": [
    {
     "data": {
      "text/plain": [
       "['.dockerignore',\n",
       " '.git',\n",
       " '.github',\n",
       " '.gitignore',\n",
       " 'app.py',\n",
       " 'build',\n",
       " 'config',\n",
       " 'dist',\n",
       " 'Dockerfile',\n",
       " 'insurance',\n",
       " 'insurance_premium_prediction.egg-info',\n",
       " 'LICENSE',\n",
       " 'logs',\n",
       " 'notebook',\n",
       " 'READMD.md',\n",
       " 'requirements.txt',\n",
       " 'setup.py',\n",
       " 'static',\n",
       " 'templates',\n",
       " 'venv',\n",
       " '__pycache__']"
      ]
     },
     "execution_count": 9,
     "metadata": {},
     "output_type": "execute_result"
    }
   ],
   "source": [
    "os.listdir(\".\")"
   ]
  },
  {
   "cell_type": "code",
   "execution_count": null,
   "metadata": {},
   "outputs": [
    {
     "data": {
      "text/plain": [
       "['config.yaml', 'model.yaml', 'schema.yaml']"
      ]
     },
     "execution_count": 10,
     "metadata": {},
     "output_type": "execute_result"
    }
   ],
   "source": [
    "os.listdir(\"config\")"
   ]
  },
  {
   "cell_type": "code",
   "execution_count": null,
   "metadata": {},
   "outputs": [],
   "source": [
    "config_file_path=\"config/config.yaml\""
   ]
  },
  {
   "cell_type": "code",
   "execution_count": null,
   "metadata": {},
   "outputs": [
    {
     "data": {
      "text/plain": [
       "'config/config.yaml'"
      ]
     },
     "execution_count": 12,
     "metadata": {},
     "output_type": "execute_result"
    }
   ],
   "source": [
    "config_file_path"
   ]
  },
  {
   "cell_type": "code",
   "execution_count": null,
   "metadata": {},
   "outputs": [
    {
     "data": {
      "text/plain": [
       "True"
      ]
     },
     "execution_count": 13,
     "metadata": {},
     "output_type": "execute_result"
    }
   ],
   "source": [
    "os.path.exists(config_file_path)"
   ]
  },
  {
   "cell_type": "code",
   "execution_count": null,
   "metadata": {},
   "outputs": [],
   "source": [
    "import yaml\n",
    "from yaml.loader import SafeLoader"
   ]
  },
  {
   "cell_type": "code",
   "execution_count": null,
   "metadata": {},
   "outputs": [],
   "source": [
    "#read data from yaml file\n",
    "config_info=None\n",
    "with open(config_file_path,\"rb\") as yaml_file:\n",
    "    config_info=yaml.safe_load(yaml_file)"
   ]
  },
  {
   "cell_type": "code",
   "execution_count": null,
   "metadata": {},
   "outputs": [
    {
     "data": {
      "text/plain": [
       "{'dataset_download_url': 'https://www.kaggle.com/datasets/noordeen/insurance-premium-prediction',\n",
       " 'raw_data_dir': 'raw_data',\n",
       " 'tgz_download_dir': 'tgz_data',\n",
       " 'ingested_dir': 'ingested_data',\n",
       " 'ingested_train_dir': 'train',\n",
       " 'ingested_test_dir': 'test'}"
      ]
     },
     "execution_count": 16,
     "metadata": {},
     "output_type": "execute_result"
    }
   ],
   "source": [
    "config_info[\"data_ingestion_config\"]\n"
   ]
  },
  {
   "cell_type": "code",
   "execution_count": null,
   "metadata": {},
   "outputs": [],
   "source": [
    "def read_yaml_file(file_path:str)->dict:\n",
    "    \"\"\"\n",
    "    Reads a YAML file and returns the contents as a dictionary.\n",
    "    file_path: str\n",
    "    \"\"\"\n",
    "    try:\n",
    "        with open(file_path, 'rb') as yaml_file:\n",
    "            return yaml.safe_load(yaml_file)\n",
    "    except Exception as e:\n",
    "        raise e"
   ]
  },
  {
   "cell_type": "code",
   "execution_count": null,
   "metadata": {},
   "outputs": [],
   "source": [
    "config =read_yaml_file(config_file_path)\n"
   ]
  },
  {
   "cell_type": "code",
   "execution_count": null,
   "metadata": {},
   "outputs": [],
   "source": [
    "from insurance.constant import *\n"
   ]
  },
  {
   "cell_type": "code",
   "execution_count": null,
   "metadata": {},
   "outputs": [
    {
     "data": {
      "text/plain": [
       "'training_pipeline_config'"
      ]
     },
     "execution_count": 20,
     "metadata": {},
     "output_type": "execute_result"
    }
   ],
   "source": [
    "TRAINING_PIPELINE_CONFIG_KEY\n"
   ]
  },
  {
   "cell_type": "code",
   "execution_count": null,
   "metadata": {},
   "outputs": [
    {
     "data": {
      "text/plain": [
       "{'pipeline_name': 'insurance', 'artifact_dir': 'artifact'}"
      ]
     },
     "execution_count": 21,
     "metadata": {},
     "output_type": "execute_result"
    }
   ],
   "source": [
    "config[TRAINING_PIPELINE_CONFIG_KEY]\n"
   ]
  },
  {
   "cell_type": "code",
   "execution_count": null,
   "metadata": {},
   "outputs": [
    {
     "data": {
      "text/plain": [
       "{'pipeline_name': 'insurance', 'artifact_dir': 'artifact'}"
      ]
     },
     "execution_count": 22,
     "metadata": {},
     "output_type": "execute_result"
    }
   ],
   "source": [
    "config[TRAINING_PIPELINE_CONFIG_KEY]\n"
   ]
  },
  {
   "cell_type": "code",
   "execution_count": null,
   "metadata": {},
   "outputs": [],
   "source": [
    "training_pipeline_config = config[TRAINING_PIPELINE_CONFIG_KEY]\n",
    "artifact_dir = os.path.join(ROOT_DIR,\n",
    "training_pipeline_config[TRAINING_PIPELINE_NAME_KEY],\n",
    "training_pipeline_config[TRAINING_PIPELINE_ARTIFACT_DIR_KEY]\n",
    ")"
   ]
  },
  {
   "cell_type": "code",
   "execution_count": null,
   "metadata": {},
   "outputs": [
    {
     "data": {
      "text/plain": [
       "'c:\\\\Users\\\\aryan\\\\insurance premium prediction'"
      ]
     },
     "execution_count": 24,
     "metadata": {},
     "output_type": "execute_result"
    }
   ],
   "source": [
    "ROOT_DIR\n"
   ]
  },
  {
   "cell_type": "code",
   "execution_count": null,
   "metadata": {},
   "outputs": [
    {
     "data": {
      "text/plain": [
       "'insurance'"
      ]
     },
     "execution_count": 25,
     "metadata": {},
     "output_type": "execute_result"
    }
   ],
   "source": [
    "training_pipeline_config[TRAINING_PIPELINE_NAME_KEY]\n"
   ]
  },
  {
   "cell_type": "code",
   "execution_count": null,
   "metadata": {},
   "outputs": [
    {
     "data": {
      "text/plain": [
       "'artifact'"
      ]
     },
     "execution_count": 26,
     "metadata": {},
     "output_type": "execute_result"
    }
   ],
   "source": [
    "training_pipeline_config[TRAINING_PIPELINE_ARTIFACT_DIR_KEY]\n"
   ]
  },
  {
   "cell_type": "code",
   "execution_count": null,
   "metadata": {},
   "outputs": [
    {
     "data": {
      "text/plain": [
       "'c:\\\\Users\\\\aryan\\\\insurance premium prediction\\\\insurance\\\\artifact'"
      ]
     },
     "execution_count": 27,
     "metadata": {},
     "output_type": "execute_result"
    }
   ],
   "source": [
    "artifact_dir\n"
   ]
  },
  {
   "cell_type": "code",
   "execution_count": null,
   "metadata": {},
   "outputs": [],
   "source": [
    "os.chdir(r\"C:\\Users\\aryan\\insurance premium prediction\")"
   ]
  },
  {
   "cell_type": "code",
   "execution_count": null,
   "metadata": {},
   "outputs": [
    {
     "data": {
      "text/plain": [
       "'c:\\\\Users\\\\aryan\\\\insurance premium prediction'"
      ]
     },
     "execution_count": 29,
     "metadata": {},
     "output_type": "execute_result"
    }
   ],
   "source": [
    "os.getcwd()\n"
   ]
  },
  {
   "cell_type": "code",
   "execution_count": null,
   "metadata": {},
   "outputs": [],
   "source": [
    "os.chdir(r\"C:\\Users\\aryan\\insurance premium prediction\")"
   ]
  },
  {
   "cell_type": "code",
   "execution_count": null,
   "metadata": {},
   "outputs": [],
   "source": [
    "from insurance.config.configuration import Configuration\n"
   ]
  },
  {
   "cell_type": "code",
   "execution_count": null,
   "metadata": {},
   "outputs": [],
   "source": [
    "config = Configuration(config_file_path=r\"C:\\Users\\aryan\\insurance premium prediction\\config\\config.yaml\")\n"
   ]
  },
  {
   "cell_type": "code",
   "execution_count": null,
   "metadata": {},
   "outputs": [],
   "source": [
    "training_pipeline_config=config.get_training_pipeline_config()\n"
   ]
  },
  {
   "cell_type": "code",
   "execution_count": null,
   "metadata": {},
   "outputs": [],
   "source": [
    "artifact_dir = training_pipeline_config.artifact_dir\n"
   ]
  },
  {
   "cell_type": "code",
   "execution_count": null,
   "metadata": {},
   "outputs": [
    {
     "data": {
      "text/plain": [
       "'data_ingestion'"
      ]
     },
     "execution_count": 37,
     "metadata": {},
     "output_type": "execute_result"
    }
   ],
   "source": [
    "DATA_INGESTION_ARTIFACT_DIR\n"
   ]
  },
  {
   "cell_type": "code",
   "execution_count": null,
   "metadata": {},
   "outputs": [
    {
     "data": {
      "text/plain": [
       "'2022-08-05-14-14-34'"
      ]
     },
     "execution_count": 38,
     "metadata": {},
     "output_type": "execute_result"
    }
   ],
   "source": [
    "CURRENT_TIME_STAMP\n"
   ]
  },
  {
   "cell_type": "code",
   "execution_count": null,
   "metadata": {},
   "outputs": [],
   "source": [
    "from insurance.constant import *\n"
   ]
  },
  {
   "cell_type": "code",
   "execution_count": null,
   "metadata": {},
   "outputs": [],
   "source": [
    "data_ingestion_info=config.config_info[DATA_INGESTION_CONFIG_KEY]\n"
   ]
  },
  {
   "cell_type": "code",
   "execution_count": null,
   "metadata": {},
   "outputs": [
    {
     "data": {
      "text/plain": [
       "{'dataset_download_url': 'https://www.kaggle.com/datasets/noordeen/insurance-premium-prediction',\n",
       " 'raw_data_dir': 'raw_data',\n",
       " 'tgz_download_dir': 'tgz_data',\n",
       " 'ingested_dir': 'ingested_data',\n",
       " 'ingested_train_dir': 'train',\n",
       " 'ingested_test_dir': 'test'}"
      ]
     },
     "execution_count": 41,
     "metadata": {},
     "output_type": "execute_result"
    }
   ],
   "source": [
    "data_ingestion_info\n"
   ]
  },
  {
   "cell_type": "code",
   "execution_count": null,
   "metadata": {},
   "outputs": [],
   "source": [
    "from insurance.constant import DATA_INGESTION_CONFIG_KEY\n"
   ]
  },
  {
   "cell_type": "code",
   "execution_count": null,
   "metadata": {},
   "outputs": [
    {
     "data": {
      "text/plain": [
       "'data_ingestion_config'"
      ]
     },
     "execution_count": 43,
     "metadata": {},
     "output_type": "execute_result"
    }
   ],
   "source": [
    "DATA_INGESTION_CONFIG_KEY\n"
   ]
  },
  {
   "cell_type": "code",
   "execution_count": null,
   "metadata": {},
   "outputs": [
    {
     "data": {
      "text/plain": [
       "'https://www.kaggle.com/datasets/noordeen/insurance-premium-prediction'"
      ]
     },
     "execution_count": 44,
     "metadata": {},
     "output_type": "execute_result"
    }
   ],
   "source": [
    "data_ingestion_info[DATA_INGESTION_DOWNLOAD_URL_KEY]\n"
   ]
  },
  {
   "cell_type": "code",
   "execution_count": null,
   "metadata": {},
   "outputs": [
    {
     "data": {
      "text/plain": [
       "{'dataset_download_url': 'https://www.kaggle.com/datasets/noordeen/insurance-premium-prediction',\n",
       " 'raw_data_dir': 'raw_data',\n",
       " 'tgz_download_dir': 'tgz_data',\n",
       " 'ingested_dir': 'ingested_data',\n",
       " 'ingested_train_dir': 'train',\n",
       " 'ingested_test_dir': 'test'}"
      ]
     },
     "execution_count": 45,
     "metadata": {},
     "output_type": "execute_result"
    }
   ],
   "source": [
    "data_ingestion_info\n"
   ]
  },
  {
   "cell_type": "code",
   "execution_count": null,
   "metadata": {},
   "outputs": [
    {
     "data": {
      "text/plain": [
       "DataIngestionConfig(dataset_download_url='https://www.kaggle.com/datasets/noordeen/insurance-premium-prediction', tgz_download_dir='c:\\\\Users\\\\aryan\\\\insurance premium prediction\\\\insurance\\\\artifact\\\\data_ingestion\\\\2022-08-05-14-14-34\\\\tgz_data', raw_data_dir='c:\\\\Users\\\\aryan\\\\insurance premium prediction\\\\insurance\\\\artifact\\\\data_ingestion\\\\2022-08-05-14-14-34\\\\raw_data', ingested_train_dir='c:\\\\Users\\\\aryan\\\\insurance premium prediction\\\\insurance\\\\artifact\\\\data_ingestion\\\\2022-08-05-14-14-34\\\\ingested_data\\\\train', ingested_test_dir='c:\\\\Users\\\\aryan\\\\insurance premium prediction\\\\insurance\\\\artifact\\\\data_ingestion\\\\2022-08-05-14-14-34\\\\ingested_data\\\\test')"
      ]
     },
     "execution_count": 46,
     "metadata": {},
     "output_type": "execute_result"
    }
   ],
   "source": [
    "config.get_data_ingestion_config()\n"
   ]
  },
  {
   "cell_type": "code",
   "execution_count": null,
   "metadata": {},
   "outputs": [],
   "source": [
    "from insurance.config.configuration import Configuration\n"
   ]
  },
  {
   "cell_type": "code",
   "execution_count": null,
   "metadata": {},
   "outputs": [],
   "source": [
    "LOG_DIR=\"insurance_logs\""
   ]
  },
  {
   "cell_type": "code",
   "execution_count": null,
   "metadata": {},
   "outputs": [],
   "source": [
    "CURRENT_TIME_STAMP=  f\"{datetime.now().strftime('%Y-%m-%d_%H-%M-%S')}\"\n"
   ]
  },
  {
   "cell_type": "code",
   "execution_count": null,
   "metadata": {},
   "outputs": [],
   "source": [
    "LOG_FILE_NAME=f\"log_{CURRENT_TIME_STAMP}.log\"\n"
   ]
  },
  {
   "cell_type": "code",
   "execution_count": null,
   "metadata": {},
   "outputs": [
    {
     "data": {
      "text/plain": [
       "'log_2022-08-04_02-33-42.log'"
      ]
     },
     "execution_count": 22,
     "metadata": {},
     "output_type": "execute_result"
    }
   ],
   "source": [
    "LOG_FILE_NAME"
   ]
  },
  {
   "cell_type": "code",
   "execution_count": null,
   "metadata": {},
   "outputs": [],
   "source": [
    "os.makedirs(LOG_DIR,exist_ok=True)\n"
   ]
  },
  {
   "cell_type": "code",
   "execution_count": null,
   "metadata": {},
   "outputs": [],
   "source": [
    "LOG_FILE_PATH = os.path.join(LOG_DIR,LOG_FILE_NAME)\n"
   ]
  },
  {
   "cell_type": "code",
   "execution_count": null,
   "metadata": {},
   "outputs": [],
   "source": [
    "logging.basicConfig(filename=LOG_FILE_PATH,\n",
    "filemode=\"w\",\n",
    "format='[%(asctime)s] %(name)s - %(levelname)s - %(message)s',\n",
    "level=logging.INFO)"
   ]
  },
  {
   "cell_type": "code",
   "execution_count": null,
   "metadata": {},
   "outputs": [
    {
     "data": {
      "text/plain": [
       "'insurance_logs\\\\log_2022-08-04_02-33-42.log'"
      ]
     },
     "execution_count": 25,
     "metadata": {},
     "output_type": "execute_result"
    }
   ],
   "source": [
    "LOG_FILE_PATH"
   ]
  },
  {
   "cell_type": "code",
   "execution_count": null,
   "metadata": {},
   "outputs": [],
   "source": [
    "from insurance.logger import logging"
   ]
  },
  {
   "cell_type": "code",
   "execution_count": null,
   "metadata": {},
   "outputs": [],
   "source": [
    "from insurance.exception import PackageException"
   ]
  },
  {
   "cell_type": "code",
   "execution_count": null,
   "metadata": {},
   "outputs": [
    {
     "data": {
      "text/plain": [
       "'c:\\\\Users\\\\aryan\\\\insurance premium prediction'"
      ]
     },
     "execution_count": 42,
     "metadata": {},
     "output_type": "execute_result"
    }
   ],
   "source": [
    "os.getcwd()"
   ]
  },
  {
   "cell_type": "code",
   "execution_count": null,
   "metadata": {},
   "outputs": [],
   "source": [
    "os.chdir(r\"C:\\Users\\aryan\\insurance premium prediction\\insurance\")"
   ]
  },
  {
   "cell_type": "code",
   "execution_count": null,
   "metadata": {},
   "outputs": [],
   "source": [
    "\n",
    "from evidently.model_profile import Profile"
   ]
  },
  {
   "cell_type": "code",
   "execution_count": null,
   "metadata": {},
   "outputs": [],
   "source": [
    "from insurance.components.data_ingestion import DataIngestion\n"
   ]
  },
  {
   "cell_type": "code",
   "execution_count": null,
   "metadata": {},
   "outputs": [
    {
     "data": {
      "text/plain": [
       "<function __main__.read_yaml_file(file_path: str) -> dict>"
      ]
     },
     "execution_count": 43,
     "metadata": {},
     "output_type": "execute_result"
    }
   ],
   "source": [
    "read_yaml_file"
   ]
  },
  {
   "cell_type": "code",
   "execution_count": null,
   "metadata": {},
   "outputs": [],
   "source": [
    "from matplotlib.style import context\n"
   ]
  },
  {
   "cell_type": "code",
   "execution_count": null,
   "metadata": {},
   "outputs": [
    {
     "name": "stdout",
     "output_type": "stream",
     "text": [
      "Collecting matplotlibNote: you may need to restart the kernel to use updated packages.\n",
      "\n",
      "  Downloading matplotlib-3.5.2-cp37-cp37m-win_amd64.whl (7.2 MB)\n",
      "     ---------------------------------------- 7.2/7.2 MB 19.2 MB/s eta 0:00:00\n",
      "Collecting kiwisolver>=1.0.1\n",
      "  Downloading kiwisolver-1.4.4-cp37-cp37m-win_amd64.whl (54 kB)\n",
      "     ---------------------------------------- 54.9/54.9 kB 2.8 MB/s eta 0:00:00\n",
      "Requirement already satisfied: packaging>=20.0 in c:\\users\\aryan\\insurance premium prediction\\venv\\lib\\site-packages (from matplotlib) (21.3)\n",
      "Collecting pillow>=6.2.0\n",
      "  Downloading Pillow-9.2.0-cp37-cp37m-win_amd64.whl (3.3 MB)\n",
      "     ---------------------------------------- 3.3/3.3 MB 41.9 MB/s eta 0:00:00\n",
      "Requirement already satisfied: numpy>=1.17 in c:\\users\\aryan\\insurance premium prediction\\venv\\lib\\site-packages (from matplotlib) (1.21.6)\n",
      "Requirement already satisfied: pyparsing>=2.2.1 in c:\\users\\aryan\\insurance premium prediction\\venv\\lib\\site-packages (from matplotlib) (3.0.9)\n",
      "Collecting cycler>=0.10\n",
      "  Downloading cycler-0.11.0-py3-none-any.whl (6.4 kB)\n",
      "Requirement already satisfied: python-dateutil>=2.7 in c:\\users\\aryan\\insurance premium prediction\\venv\\lib\\site-packages (from matplotlib) (2.8.2)\n",
      "Collecting fonttools>=4.22.0\n",
      "  Downloading fonttools-4.34.4-py3-none-any.whl (944 kB)\n",
      "     ------------------------------------- 944.1/944.1 kB 30.1 MB/s eta 0:00:00\n",
      "Requirement already satisfied: typing-extensions in c:\\users\\aryan\\insurance premium prediction\\venv\\lib\\site-packages (from kiwisolver>=1.0.1->matplotlib) (4.3.0)\n",
      "Requirement already satisfied: six>=1.5 in c:\\users\\aryan\\insurance premium prediction\\venv\\lib\\site-packages (from python-dateutil>=2.7->matplotlib) (1.16.0)\n",
      "Installing collected packages: pillow, kiwisolver, fonttools, cycler, matplotlib\n",
      "Successfully installed cycler-0.11.0 fonttools-4.34.4 kiwisolver-1.4.4 matplotlib-3.5.2 pillow-9.2.0\n"
     ]
    }
   ],
   "source": [
    "pip install matplotlib"
   ]
  },
  {
   "cell_type": "code",
   "execution_count": null,
   "metadata": {},
   "outputs": [],
   "source": [
    "from insurance.logger.__init__ import get_log_dataframe\n"
   ]
  },
  {
   "cell_type": "code",
   "execution_count": null,
   "metadata": {},
   "outputs": [],
   "source": [
    "from insurance.pipeline.pipeline import Pipeline\n"
   ]
  },
  {
   "cell_type": "code",
   "execution_count": null,
   "metadata": {},
   "outputs": [],
   "source": [
    "from insurance.logger import logging,LOG_FILE_NAME\n"
   ]
  },
  {
   "cell_type": "code",
   "execution_count": null,
   "metadata": {},
   "outputs": [],
   "source": [
    "from pyexpat import model\n"
   ]
  },
  {
   "cell_type": "code",
   "execution_count": null,
   "metadata": {},
   "outputs": [],
   "source": [
    "from cmath import log\n"
   ]
  },
  {
   "cell_type": "code",
   "execution_count": null,
   "metadata": {},
   "outputs": [
    {
     "name": "stderr",
     "output_type": "stream",
     "text": [
      "c:\\Users\\aryan\\insurance premium prediction\\venv\\lib\\site-packages\\_distutils_hack\\__init__.py:30: UserWarning: Setuptools is replacing distutils.\n",
      "  warnings.warn(\"Setuptools is replacing distutils.\")\n"
     ]
    }
   ],
   "source": [
    "from flask import Flask, request\n",
    "import sys\n",
    "import pip\n",
    "from insurance.util.util import read_yaml_file, write_yaml_file\n",
    "from matplotlib.style import context\n",
    "from insurance.logger import logging\n",
    "from insurance.exception import PackageException\n",
    "import os, sys\n",
    "import json\n",
    "from insurance.config.configuration import Configuration\n",
    "from insurance.constant import CONFIG_DIR, get_current_time_stamp\n",
    "from insurance.pipeline.pipeline import Pipeline\n",
    "from insurance.entity.insurance_prem_predictor import insuranceData, insurance_prem_Predictor\n",
    "from flask import send_file, abort, render_template\n",
    "\n",
    "\n",
    "\n",
    "ROOT_DIR = os.getcwd()\n",
    "LOG_FOLDER_NAME = \"logs\"\n",
    "PIPELINE_FOLDER_NAME = \"Insurance Premium Prediction\"\n",
    "SAVED_MODELS_DIR_NAME = \"saved_models\"\n",
    "MODEL_CONFIG_FILE_PATH = os.path.join(ROOT_DIR, CONFIG_DIR, \"model.yaml\")\n",
    "CONFIG_FILE_PATH = os.path.join(ROOT_DIR, CONFIG_DIR, \"config.yaml\")\n",
    "LOG_DIR = os.path.join(ROOT_DIR, LOG_FOLDER_NAME)\n",
    "PIPELINE_DIR = os.path.join(ROOT_DIR, PIPELINE_FOLDER_NAME)\n",
    "MODEL_DIR = os.path.join(ROOT_DIR, SAVED_MODELS_DIR_NAME)\n",
    "\n",
    "from insurance.logger.__init__ import get_log_dataframe\n",
    "\n",
    "INSURANCE_DATA_KEY = \"Insurance_data\"\n",
    "EXPENSES_VALUE_KEY = \"expenses\"\n",
    "\n",
    "app=Flask(__name__)"
   ]
  },
  {
   "cell_type": "code",
   "execution_count": null,
   "metadata": {},
   "outputs": [],
   "source": [
    "@app.route('/predict', methods=['GET', 'POST'])\n",
    "def predict():\n",
    "    context = {\n",
    "        INSURANCE_DATA_KEY: None,\n",
    "        EXPENSES_VALUE_KEY: None\n",
    "    }\n",
    "\n",
    "    if request.method == 'POST':\n",
    "        age = int(request.form.get('age'))\n",
    "        sex = request.form.get('sex')\n",
    "        bmi = float(request.form.get('bmi'))\n",
    "        children = int(request.form.get('children'))\n",
    "        smoker = request.form.get('smoker')\n",
    "        region = request.form.get('region')\n",
    "\n",
    "        Insurance_data = insuranceData(age=age,\n",
    "                                       sex=sex,\n",
    "                                       bmi=bmi,\n",
    "                                       children=children,\n",
    "                                       smoker=smoker,\n",
    "                                       region=region)\n",
    "        insurance_df = insuranceData.get_insurance_input_data_frame()\n",
    "        insurance_predictor = insurance_prem_Predictor(model_dir=MODEL_DIR)\n",
    "        folder_name = list(map(int, os.listdir(MODEL_DIR)))\n",
    "        if folder_name==[]:\n",
    "            context = {\n",
    "                        INSURANCE_DATA_KEY: Insurance_data.get_insurance_data_as_dict(),\n",
    "                        EXPENSES_VALUE_KEY: \"TRAIN MODEL FIRST\",\n",
    "                        }\n",
    "            return render_template('predict.html', context=context)          \n",
    "        expenses = insurance_predictor.predict(insurance_df)\n",
    "        logging.info(f\"expenses :{float(expenses)}\" )\n",
    "        context = {\n",
    "                    INSURANCE_DATA_KEY: Insurance_data.get_insurance_data_as_dict(),\n",
    "                    EXPENSES_VALUE_KEY: float(expenses),\n",
    "                    }\n",
    "        return render_template('predict.html', context=context)\n",
    "    return render_template(\"predict.html\", context=context)"
   ]
  },
  {
   "cell_type": "code",
   "execution_count": null,
   "metadata": {},
   "outputs": [],
   "source": [
    "@app.route(\"/dashboard\",methods=['GET','POST'])\n",
    "def dashboard():\n",
    "    try:\n",
    "        log_count = 0\n",
    "        trained_count = 0\n",
    "        for root_dir, cur_dir, files in os.walk(LOG_FOLDER_NAME):\n",
    "            log_count += len(files)\n",
    "        for root_dir, cur_dir, files in os.walk(SAVED_MODELS_DIR_NAME):\n",
    "            trained_count += len(files)\n",
    "        return render_template('dashboard.html',dashboard=True,log_count=log_count, trained_count= trained_count)\n",
    "    except Exception as e:\n",
    "        sharing = PackageException(e,sys)\n",
    "        logging.info(sharing.error_message)\n",
    "    logging.info(\"Testing logger module\")\n",
    "\n",
    "@app.route('/artifact', defaults={'req_path': 'insurance'})\n",
    "@app.route('/artifact/<path:req_path>')\n",
    "def render_artifact_dir(req_path):\n",
    "    os.makedirs(\"insurance \", exist_ok=True)\n",
    "    # Joining the base and the requested path\n",
    "    print(f\"req_path: {req_path}\")\n",
    "    abs_path = os.path.join(req_path)\n",
    "    print(abs_path)\n",
    "    # Return 404 if path doesn't exist\n",
    "    if not os.path.exists(abs_path):\n",
    "        return abort(404)\n",
    "\n",
    "    # Check if path is a file and serve\n",
    "    if os.path.isfile(abs_path):\n",
    "        if \".html\" in abs_path:\n",
    "            with open(abs_path, \"r\", encoding=\"utf-8\") as file:\n",
    "                content = ''\n",
    "                for line in file.readlines():\n",
    "                    content = f\"{content}{line}\"\n",
    "                return content\n",
    "        return send_file(abs_path)\n",
    "\n",
    "    # Show directory contents\n",
    "    files = {os.path.join(abs_path, file_name): file_name for file_name in os.listdir(abs_path) if\n",
    "             \"artifact\" in os.path.join(abs_path, file_name)}\n",
    "\n",
    "    result = {\n",
    "        \"files\": files,\n",
    "        \"parent_folder\": os.path.dirname(abs_path),\n",
    "        \"parent_label\": abs_path\n",
    "    }\n",
    "    return render_template('files.html', result=result)\n",
    "\n"
   ]
  },
  {
   "cell_type": "code",
   "execution_count": 7,
   "metadata": {},
   "outputs": [],
   "source": [
    "from collections import namedtuple\n",
    "\n",
    "\n",
    "DataIngestionConfig=namedtuple(\"DataIngestionConfig\",\n",
    "[\"dataset_download_url\",\"zip_download_dir\",\"raw_data_dir\",\"ingested_train_dir\",\"ingested_test_dir\"])"
   ]
  },
  {
   "cell_type": "code",
   "execution_count": 8,
   "metadata": {},
   "outputs": [],
   "source": [
    "def get_data_ingestion_config(self) ->DataIngestionConfig:\n",
    "        try:\n",
    "            artifact_dir = self.training_pipeline_config.artifact_dir\n",
    "            data_ingestion_artifact_dir=os.path.join(\n",
    "                artifact_dir,\n",
    "                DATA_INGESTION_ARTIFACT_DIR,\n",
    "                self.time_stamp\n",
    "            )\n",
    "            data_ingestion_info = self.config_info[DATA_INGESTION_CONFIG_KEY]\n",
    "            \n",
    "            dataset_download_url = data_ingestion_info[DATA_INGESTION_DOWNLOAD_URL_KEY]\n",
    "\n",
    "            zip_download_dir = os.path.join(\n",
    "                data_ingestion_artifact_dir,\n",
    "                data_ingestion_info[DATA_INGESTION_ZIP_DOWNLOAD_DIR_KEY]\n",
    "            )\n",
    "            raw_data_dir = os.path.join(data_ingestion_artifact_dir,\n",
    "            data_ingestion_info[DATA_INGESTION_RAW_DATA_DIR_KEY]\n",
    "            )\n",
    "\n",
    "            ingested_data_dir = os.path.join(\n",
    "                data_ingestion_artifact_dir,\n",
    "                data_ingestion_info[DATA_INGESTION_INGESTED_DIR_NAME_KEY]\n",
    "            )\n",
    "            ingested_train_dir = os.path.join(\n",
    "                ingested_data_dir,\n",
    "                data_ingestion_info[DATA_INGESTION_TRAIN_DIR_KEY]\n",
    "            )\n",
    "            ingested_test_dir =os.path.join(\n",
    "                ingested_data_dir,\n",
    "                data_ingestion_info[DATA_INGESTION_TEST_DIR_KEY]\n",
    "            )\n",
    "\n",
    "\n",
    "            data_ingestion_config=DataIngestionConfig(\n",
    "                dataset_download_url=dataset_download_url, \n",
    "                zip_download_dir=zip_download_dir, \n",
    "                raw_data_dir=raw_data_dir, \n",
    "                ingested_train_dir=ingested_train_dir, \n",
    "                ingested_test_dir=ingested_test_dir\n",
    "            )\n",
    "            logging.info(f\"Data Ingestion config: {data_ingestion_config}\")\n",
    "            return data_ingestion_config\n",
    "        except Exception as e:\n",
    "            raise PackageException(e,sys) from e\n"
   ]
  },
  {
   "cell_type": "code",
   "execution_count": 16,
   "metadata": {},
   "outputs": [
    {
     "ename": "SyntaxError",
     "evalue": "invalid syntax (1922224047.py, line 1)",
     "output_type": "error",
     "traceback": [
      "\u001b[1;36m  File \u001b[1;32m\"C:\\Users\\aryan\\AppData\\Local\\Temp\\ipykernel_972\\1922224047.py\"\u001b[1;36m, line \u001b[1;32m1\u001b[0m\n\u001b[1;33m    def get_data_ingestion_config (self,)\u001b[0m\n\u001b[1;37m                                         ^\u001b[0m\n\u001b[1;31mSyntaxError\u001b[0m\u001b[1;31m:\u001b[0m invalid syntax\n"
     ]
    }
   ],
   "source": [
    "def get_data_ingestion_config (self,)"
   ]
  },
  {
   "cell_type": "code",
   "execution_count": null,
   "metadata": {},
   "outputs": [
    {
     "ename": "NameError",
     "evalue": "name 'self' is not defined",
     "output_type": "error",
     "traceback": [
      "\u001b[1;31m---------------------------------------------------------------------------\u001b[0m",
      "\u001b[1;31mNameError\u001b[0m                                 Traceback (most recent call last)",
      "\u001b[1;32m~\\AppData\\Local\\Temp\\ipykernel_4780\\1047911908.py\u001b[0m in \u001b[0;36m<module>\u001b[1;34m\u001b[0m\n\u001b[1;32m----> 1\u001b[1;33m \u001b[0martifact_dir\u001b[0m \u001b[1;33m=\u001b[0m \u001b[0mself\u001b[0m\u001b[1;33m.\u001b[0m\u001b[0mtraining_pipeline_config\u001b[0m\u001b[1;33m.\u001b[0m\u001b[0martifact_dir\u001b[0m\u001b[1;33m\u001b[0m\u001b[0m\n\u001b[0m",
      "\u001b[1;31mNameError\u001b[0m: name 'self' is not defined"
     ]
    }
   ],
   "source": [
    " artifact_dir = self.training_pipeline_config.artifact_dir"
   ]
  },
  {
   "cell_type": "code",
   "execution_count": 10,
   "metadata": {},
   "outputs": [
    {
     "ename": "NameError",
     "evalue": "name 'artifact_dir' is not defined",
     "output_type": "error",
     "traceback": [
      "\u001b[1;31m---------------------------------------------------------------------------\u001b[0m",
      "\u001b[1;31mNameError\u001b[0m                                 Traceback (most recent call last)",
      "\u001b[1;32m~\\AppData\\Local\\Temp\\ipykernel_16604\\510148352.py\u001b[0m in \u001b[0;36m<module>\u001b[1;34m\u001b[0m\n\u001b[1;32m----> 1\u001b[1;33m data_ingestion_artifact_dir = os.path.join(artifact_dir, \n\u001b[0m\u001b[0;32m      2\u001b[0m                                                        \u001b[0mDATA_INGESTION_ARTIFACT_DIR\u001b[0m\u001b[1;33m,\u001b[0m\u001b[1;33m\u001b[0m\u001b[0m\n\u001b[0;32m      3\u001b[0m                                                        self.time_stamp)\n",
      "\u001b[1;31mNameError\u001b[0m: name 'artifact_dir' is not defined"
     ]
    }
   ],
   "source": [
    "data_ingestion_artifact_dir = os.path.join(artifact_dir, \n",
    "                                                       DATA_INGESTION_ARTIFACT_DIR, \n",
    "                                                       self.time_stamp)\n"
   ]
  },
  {
   "cell_type": "code",
   "execution_count": 9,
   "metadata": {},
   "outputs": [
    {
     "ename": "NameError",
     "evalue": "name 'data_ingestion_artifact_dir' is not defined",
     "output_type": "error",
     "traceback": [
      "\u001b[1;31m---------------------------------------------------------------------------\u001b[0m",
      "\u001b[1;31mNameError\u001b[0m                                 Traceback (most recent call last)",
      "\u001b[1;32m~\\AppData\\Local\\Temp\\ipykernel_16604\\1888428157.py\u001b[0m in \u001b[0;36m<module>\u001b[1;34m\u001b[0m\n\u001b[0;32m      1\u001b[0m zip_download_dir = os.path.join(\n\u001b[1;32m----> 2\u001b[1;33m                 \u001b[0mdata_ingestion_artifact_dir\u001b[0m\u001b[1;33m,\u001b[0m\u001b[1;33m\u001b[0m\u001b[0m\n\u001b[0m\u001b[0;32m      3\u001b[0m                 data_ingestion_info[DATA_INGESTION_ZIP_DOWNLOAD_DIR_KEY])\n",
      "\u001b[1;31mNameError\u001b[0m: name 'data_ingestion_artifact_dir' is not defined"
     ]
    }
   ],
   "source": [
    "zip_download_dir = os.path.join(\n",
    "                data_ingestion_artifact_dir,\n",
    "                data_ingestion_info[DATA_INGESTION_ZIP_DOWNLOAD_DIR_KEY])"
   ]
  },
  {
   "cell_type": "code",
   "execution_count": 3,
   "metadata": {},
   "outputs": [
    {
     "ename": "NameError",
     "evalue": "name 'raw_data' is not defined",
     "output_type": "error",
     "traceback": [
      "\u001b[1;31m---------------------------------------------------------------------------\u001b[0m",
      "\u001b[1;31mNameError\u001b[0m                                 Traceback (most recent call last)",
      "\u001b[1;32m~\\AppData\\Local\\Temp\\ipykernel_16604\\2619044211.py\u001b[0m in \u001b[0;36m<module>\u001b[1;34m\u001b[0m\n\u001b[1;32m----> 1\u001b[1;33m \u001b[0mraw_data_dir\u001b[0m\u001b[1;33m:\u001b[0m \u001b[0mraw_data\u001b[0m\u001b[1;33m\u001b[0m\u001b[0m\n\u001b[0m\u001b[0;32m      2\u001b[0m \u001b[0mzip_download_dir\u001b[0m\u001b[1;33m:\u001b[0m \u001b[0mzip_data\u001b[0m\u001b[1;33m\u001b[0m\u001b[0m\n\u001b[0;32m      3\u001b[0m \u001b[0mingested_dir\u001b[0m\u001b[1;33m:\u001b[0m \u001b[0mingested_data\u001b[0m\u001b[1;33m\u001b[0m\u001b[0m\n\u001b[0;32m      4\u001b[0m \u001b[0mingested_train_dir\u001b[0m\u001b[1;33m:\u001b[0m \u001b[0mtrain\u001b[0m\u001b[1;33m\u001b[0m\u001b[0m\n\u001b[0;32m      5\u001b[0m \u001b[0mingested_test_dir\u001b[0m\u001b[1;33m:\u001b[0m \u001b[0mtest\u001b[0m\u001b[1;33m\u001b[0m\u001b[0m\n",
      "\u001b[1;31mNameError\u001b[0m: name 'raw_data' is not defined"
     ]
    }
   ],
   "source": [
    "\n",
    "  raw_data_dir: raw_data\n",
    "  zip_download_dir: zip_data\n",
    "  ingested_dir: ingested_data\n",
    "  ingested_train_dir: train\n",
    "  ingested_test_dir: test"
   ]
  },
  {
   "cell_type": "code",
   "execution_count": null,
   "metadata": {},
   "outputs": [],
   "source": [
    "  if os.path.exists(raw_data_dir):\n",
    "                os.remove(raw_data_dir)\n",
    "\n",
    "            os.makedirs(raw_data_dir,exist_ok=True)\n",
    "\n",
    "            logging.info(f\"Extracting tgz file: [{tgz_file_path}] into dir: [{raw_data_dir}]\")\n",
    "            with tarfile.open(tgz_file_path) as housing_tgz_file_obj:\n",
    "                housing_tgz_file_obj.extractall(path=raw_data_dir)\n",
    "            logging.info(f\"Extraction completed\")"
   ]
  },
  {
   "cell_type": "code",
   "execution_count": 12,
   "metadata": {},
   "outputs": [],
   "source": [
    "from insurance.entity.config_entity import DataIngestionConfig, ModelEvaluationConfig\n"
   ]
  },
  {
   "cell_type": "code",
   "execution_count": 14,
   "metadata": {},
   "outputs": [
    {
     "data": {
      "text/plain": [
       "insurance.entity.config_entity.ModelEvaluationConfig"
      ]
     },
     "execution_count": 14,
     "metadata": {},
     "output_type": "execute_result"
    }
   ],
   "source": [
    "ModelEvaluationConfig"
   ]
  },
  {
   "cell_type": "code",
   "execution_count": 1,
   "metadata": {},
   "outputs": [
    {
     "ename": "ModuleNotFoundError",
     "evalue": "No module named 'mkl'",
     "output_type": "error",
     "traceback": [
      "\u001b[1;31m---------------------------------------------------------------------------\u001b[0m",
      "\u001b[1;31mModuleNotFoundError\u001b[0m                       Traceback (most recent call last)",
      "\u001b[1;32m~\\AppData\\Local\\Temp\\ipykernel_18260\\3157193293.py\u001b[0m in \u001b[0;36m<module>\u001b[1;34m\u001b[0m\n\u001b[1;32m----> 1\u001b[1;33m \u001b[1;32mimport\u001b[0m \u001b[0mmkl\u001b[0m\u001b[1;33m.\u001b[0m\u001b[0m_mkl_service\u001b[0m \u001b[1;32mas\u001b[0m \u001b[0mmkl\u001b[0m\u001b[1;33m\u001b[0m\u001b[0m\n\u001b[0m",
      "\u001b[1;31mModuleNotFoundError\u001b[0m: No module named 'mkl'"
     ]
    }
   ],
   "source": [
    "import mkl._mkl_service as mkl"
   ]
  },
  {
   "cell_type": "code",
   "execution_count": 2,
   "metadata": {},
   "outputs": [
    {
     "name": "stdout",
     "output_type": "stream",
     "text": [
      "Collecting mkl\n",
      "  Downloading mkl-2022.1.0-py2.py3-none-win_amd64.whl (229.8 MB)\n",
      "     -------------------------------------- 229.8/229.8 MB 5.1 MB/s eta 0:00:00\n",
      "Collecting tbb==2021.*\n",
      "  Downloading tbb-2021.6.0-py3-none-win_amd64.whl (278 kB)\n",
      "     -------------------------------------- 278.1/278.1 kB 5.7 MB/s eta 0:00:00\n",
      "Collecting intel-openmp==2022.*\n",
      "  Downloading intel_openmp-2022.1.0-py2.py3-none-win_amd64.whl (4.1 MB)\n",
      "     ---------------------------------------- 4.1/4.1 MB 15.2 MB/s eta 0:00:00\n",
      "Installing collected packages: tbb, intel-openmp, mkl\n",
      "Successfully installed intel-openmp-2022.1.0 mkl-2022.1.0 tbb-2021.6.0\n",
      "Note: you may need to restart the kernel to use updated packages.\n"
     ]
    }
   ],
   "source": [
    "pip install mkl"
   ]
  },
  {
   "cell_type": "code",
   "execution_count": 1,
   "metadata": {},
   "outputs": [],
   "source": [
    "from flask import Flask, request\n",
    "  "
   ]
  },
  {
   "cell_type": "code",
   "execution_count": 2,
   "metadata": {},
   "outputs": [
    {
     "ename": "ImportError",
     "evalue": "cannot import name 'escape' from 'jinja2' (c:\\Users\\aryan\\insurance premium prediction\\venv\\lib\\site-packages\\jinja2\\__init__.py)",
     "output_type": "error",
     "traceback": [
      "\u001b[1;31m---------------------------------------------------------------------------\u001b[0m",
      "\u001b[1;31mImportError\u001b[0m                               Traceback (most recent call last)",
      "\u001b[1;32m~\\AppData\\Local\\Temp\\ipykernel_10664\\1621742011.py\u001b[0m in \u001b[0;36m<module>\u001b[1;34m\u001b[0m\n\u001b[1;32m----> 1\u001b[1;33m \u001b[1;32mfrom\u001b[0m \u001b[0mjinja2\u001b[0m \u001b[1;32mimport\u001b[0m \u001b[0mescape\u001b[0m\u001b[1;33m\u001b[0m\u001b[0m\n\u001b[0m\u001b[0;32m      2\u001b[0m \u001b[1;33m\u001b[0m\u001b[0m\n",
      "\u001b[1;31mImportError\u001b[0m: cannot import name 'escape' from 'jinja2' (c:\\Users\\aryan\\insurance premium prediction\\venv\\lib\\site-packages\\jinja2\\__init__.py)"
     ]
    }
   ],
   "source": [
    "from jinja2 import escape\n",
    " "
   ]
  },
  {
   "cell_type": "code",
   "execution_count": 3,
   "metadata": {},
   "outputs": [
    {
     "ename": "ModuleNotFoundError",
     "evalue": "No module named '__main__.environment'; '__main__' is not a package",
     "output_type": "error",
     "traceback": [
      "\u001b[1;31m---------------------------------------------------------------------------\u001b[0m",
      "\u001b[1;31mModuleNotFoundError\u001b[0m                       Traceback (most recent call last)",
      "\u001b[1;32m~\\AppData\\Local\\Temp\\ipykernel_10664\\3942562461.py\u001b[0m in \u001b[0;36m<module>\u001b[1;34m\u001b[0m\n\u001b[1;32m----> 1\u001b[1;33m \u001b[1;32mfrom\u001b[0m \u001b[1;33m.\u001b[0m\u001b[0menvironment\u001b[0m \u001b[1;32mimport\u001b[0m \u001b[0mEnvironment\u001b[0m\u001b[1;33m\u001b[0m\u001b[0m\n\u001b[0m\u001b[0;32m      2\u001b[0m \u001b[1;33m\u001b[0m\u001b[0m\n",
      "\u001b[1;31mModuleNotFoundError\u001b[0m: No module named '__main__.environment'; '__main__' is not a package"
     ]
    }
   ],
   "source": [
    "from .environment import Environment\n",
    " "
   ]
  },
  {
   "cell_type": "code",
   "execution_count": 6,
   "metadata": {},
   "outputs": [
    {
     "ename": "ModuleNotFoundError",
     "evalue": "No module named '__main__.defaults'; '__main__' is not a package",
     "output_type": "error",
     "traceback": [
      "\u001b[1;31m---------------------------------------------------------------------------\u001b[0m",
      "\u001b[1;31mModuleNotFoundError\u001b[0m                       Traceback (most recent call last)",
      "\u001b[1;32m~\\AppData\\Local\\Temp\\ipykernel_10664\\515270389.py\u001b[0m in \u001b[0;36m<module>\u001b[1;34m\u001b[0m\n\u001b[1;32m----> 1\u001b[1;33m \u001b[1;32mfrom\u001b[0m \u001b[1;33m.\u001b[0m\u001b[0mdefaults\u001b[0m \u001b[1;32mimport\u001b[0m \u001b[0mBLOCK_END_STRING\u001b[0m\u001b[1;33m\u001b[0m\u001b[0m\n\u001b[0m\u001b[0;32m      2\u001b[0m \u001b[1;33m\u001b[0m\u001b[0m\n",
      "\u001b[1;31mModuleNotFoundError\u001b[0m: No module named '__main__.defaults'; '__main__' is not a package"
     ]
    }
   ],
   "source": [
    "from .defaults import BLOCK_END_STRING\n",
    "  "
   ]
  },
  {
   "cell_type": "code",
   "execution_count": 5,
   "metadata": {},
   "outputs": [
    {
     "name": "stdout",
     "output_type": "stream",
     "text": [
      "Requirement already satisfied: ipykernel in c:\\users\\aryan\\insurance premium prediction\\venv\\lib\\site-packages (6.15.1)\n",
      "Requirement already satisfied: debugpy>=1.0 in c:\\users\\aryan\\insurance premium prediction\\venv\\lib\\site-packages (from ipykernel) (1.6.3)\n",
      "Requirement already satisfied: packaging in c:\\users\\aryan\\insurance premium prediction\\venv\\lib\\site-packages (from ipykernel) (21.3)\n",
      "Requirement already satisfied: pyzmq>=17 in c:\\users\\aryan\\insurance premium prediction\\venv\\lib\\site-packages (from ipykernel) (23.2.1)\n",
      "Requirement already satisfied: nest-asyncio in c:\\users\\aryan\\insurance premium prediction\\venv\\lib\\site-packages (from ipykernel) (1.5.5)\n",
      "Requirement already satisfied: ipython>=7.23.1 in c:\\users\\aryan\\insurance premium prediction\\venv\\lib\\site-packages (from ipykernel) (7.34.0)\n",
      "Requirement already satisfied: psutil in c:\\users\\aryan\\insurance premium prediction\\venv\\lib\\site-packages (from ipykernel) (5.9.1)\n",
      "Requirement already satisfied: traitlets>=5.1.0 in c:\\users\\aryan\\insurance premium prediction\\venv\\lib\\site-packages (from ipykernel) (5.3.0)\n",
      "Requirement already satisfied: matplotlib-inline>=0.1 in c:\\users\\aryan\\insurance premium prediction\\venv\\lib\\site-packages (from ipykernel) (0.1.3)\n",
      "Requirement already satisfied: tornado>=6.1 in c:\\users\\aryan\\insurance premium prediction\\venv\\lib\\site-packages (from ipykernel) (6.2)\n",
      "Requirement already satisfied: jupyter-client>=6.1.12 in c:\\users\\aryan\\insurance premium prediction\\venv\\lib\\site-packages (from ipykernel) (7.3.4)\n",
      "Requirement already satisfied: prompt-toolkit!=3.0.0,!=3.0.1,<3.1.0,>=2.0.0 in c:\\users\\aryan\\insurance premium prediction\\venv\\lib\\site-packages (from ipython>=7.23.1->ipykernel) (3.0.30)\n",
      "Requirement already satisfied: pickleshare in c:\\users\\aryan\\insurance premium prediction\\venv\\lib\\site-packages (from ipython>=7.23.1->ipykernel) (0.7.5)\n",
      "Requirement already satisfied: setuptools>=18.5 in c:\\users\\aryan\\insurance premium prediction\\venv\\lib\\site-packages (from ipython>=7.23.1->ipykernel) (61.2.0)\n",
      "Requirement already satisfied: jedi>=0.16 in c:\\users\\aryan\\insurance premium prediction\\venv\\lib\\site-packages (from ipython>=7.23.1->ipykernel) (0.18.1)\n",
      "Requirement already satisfied: decorator in c:\\users\\aryan\\insurance premium prediction\\venv\\lib\\site-packages (from ipython>=7.23.1->ipykernel) (5.1.1)\n",
      "Requirement already satisfied: pygments in c:\\users\\aryan\\insurance premium prediction\\venv\\lib\\site-packages (from ipython>=7.23.1->ipykernel) (2.13.0)\n",
      "Requirement already satisfied: backcall in c:\\users\\aryan\\insurance premium prediction\\venv\\lib\\site-packages (from ipython>=7.23.1->ipykernel) (0.2.0)\n",
      "Requirement already satisfied: colorama in c:\\users\\aryan\\insurance premium prediction\\venv\\lib\\site-packages (from ipython>=7.23.1->ipykernel) (0.4.5)\n",
      "Requirement already satisfied: python-dateutil>=2.8.2 in c:\\users\\aryan\\insurance premium prediction\\venv\\lib\\site-packages (from jupyter-client>=6.1.12->ipykernel) (2.8.2)\n",
      "Requirement already satisfied: entrypoints in c:\\users\\aryan\\insurance premium prediction\\venv\\lib\\site-packages (from jupyter-client>=6.1.12->ipykernel) (0.4)\n",
      "Requirement already satisfied: jupyter-core>=4.9.2 in c:\\users\\aryan\\insurance premium prediction\\venv\\lib\\site-packages (from jupyter-client>=6.1.12->ipykernel) (4.11.1)\n",
      "Requirement already satisfied: pyparsing!=3.0.5,>=2.0.2 in c:\\users\\aryan\\insurance premium prediction\\venv\\lib\\site-packages (from packaging->ipykernel) (3.0.9)\n",
      "Requirement already satisfied: parso<0.9.0,>=0.8.0 in c:\\users\\aryan\\insurance premium prediction\\venv\\lib\\site-packages (from jedi>=0.16->ipython>=7.23.1->ipykernel) (0.8.3)\n",
      "Requirement already satisfied: pywin32>=1.0 in c:\\users\\aryan\\insurance premium prediction\\venv\\lib\\site-packages (from jupyter-core>=4.9.2->jupyter-client>=6.1.12->ipykernel) (304)\n",
      "Requirement already satisfied: wcwidth in c:\\users\\aryan\\insurance premium prediction\\venv\\lib\\site-packages (from prompt-toolkit!=3.0.0,!=3.0.1,<3.1.0,>=2.0.0->ipython>=7.23.1->ipykernel) (0.2.5)\n",
      "Requirement already satisfied: six>=1.5 in c:\\users\\aryan\\insurance premium prediction\\venv\\lib\\site-packages (from python-dateutil>=2.8.2->jupyter-client>=6.1.12->ipykernel) (1.16.0)\n",
      "Note: you may need to restart the kernel to use updated packages.\n"
     ]
    }
   ],
   "source": [
    "pip install ipykernel"
   ]
  },
  {
   "cell_type": "code",
   "execution_count": 7,
   "metadata": {},
   "outputs": [
    {
     "ename": "ModuleNotFoundError",
     "evalue": "No module named '__main__.filters'; '__main__' is not a package",
     "output_type": "error",
     "traceback": [
      "\u001b[1;31m---------------------------------------------------------------------------\u001b[0m",
      "\u001b[1;31mModuleNotFoundError\u001b[0m                       Traceback (most recent call last)",
      "\u001b[1;32m~\\AppData\\Local\\Temp\\ipykernel_10664\\302246711.py\u001b[0m in \u001b[0;36m<module>\u001b[1;34m\u001b[0m\n\u001b[1;32m----> 1\u001b[1;33m \u001b[1;32mfrom\u001b[0m \u001b[1;33m.\u001b[0m\u001b[0mfilters\u001b[0m \u001b[1;32mimport\u001b[0m \u001b[0mFILTERS\u001b[0m \u001b[1;32mas\u001b[0m \u001b[0mDEFAULT_FILTERS\u001b[0m  \u001b[1;31m# noqa: F401\u001b[0m\u001b[1;33m\u001b[0m\u001b[0m\n\u001b[0m",
      "\u001b[1;31mModuleNotFoundError\u001b[0m: No module named '__main__.filters'; '__main__' is not a package"
     ]
    }
   ],
   "source": [
    "from .filters import FILTERS as DEFAULT_FILTERS  # noqa: F401\n"
   ]
  },
  {
   "cell_type": "code",
   "execution_count": 12,
   "metadata": {},
   "outputs": [
    {
     "name": "stdout",
     "output_type": "stream",
     "text": [
      "Requirement already satisfied: markupsafe in c:\\users\\aryan\\insurance premium prediction\\venv\\lib\\site-packages (2.1.1)\n"
     ]
    }
   ],
   "source": [
    "!pip install markupsafe\n"
   ]
  },
  {
   "cell_type": "code",
   "execution_count": 14,
   "metadata": {},
   "outputs": [
    {
     "ename": "NameError",
     "evalue": "name 'soft_unicode' is not defined",
     "output_type": "error",
     "traceback": [
      "\u001b[1;31m---------------------------------------------------------------------------\u001b[0m",
      "\u001b[1;31mNameError\u001b[0m                                 Traceback (most recent call last)",
      "\u001b[1;32m~\\AppData\\Local\\Temp\\ipykernel_10664\\744548891.py\u001b[0m in \u001b[0;36m<module>\u001b[1;34m\u001b[0m\n\u001b[1;32m----> 1\u001b[1;33m \u001b[0msoft_unicode\u001b[0m\u001b[1;33m\u001b[0m\u001b[0m\n\u001b[0m",
      "\u001b[1;31mNameError\u001b[0m: name 'soft_unicode' is not defined"
     ]
    }
   ],
   "source": [
    "soft_unicode"
   ]
  },
  {
   "cell_type": "code",
   "execution_count": 13,
   "metadata": {},
   "outputs": [
    {
     "ename": "ImportError",
     "evalue": "cannot import name 'soft_unicode' from 'markupsafe' (c:\\Users\\aryan\\insurance premium prediction\\venv\\lib\\site-packages\\markupsafe\\__init__.py)",
     "output_type": "error",
     "traceback": [
      "\u001b[1;31m---------------------------------------------------------------------------\u001b[0m",
      "\u001b[1;31mImportError\u001b[0m                               Traceback (most recent call last)",
      "\u001b[1;32m~\\AppData\\Local\\Temp\\ipykernel_10664\\1656930969.py\u001b[0m in \u001b[0;36m<module>\u001b[1;34m\u001b[0m\n\u001b[1;32m----> 1\u001b[1;33m \u001b[1;32mfrom\u001b[0m \u001b[0mmarkupsafe\u001b[0m \u001b[1;32mimport\u001b[0m \u001b[0msoft_unicode\u001b[0m\u001b[1;33m\u001b[0m\u001b[0m\n\u001b[0m",
      "\u001b[1;31mImportError\u001b[0m: cannot import name 'soft_unicode' from 'markupsafe' (c:\\Users\\aryan\\insurance premium prediction\\venv\\lib\\site-packages\\markupsafe\\__init__.py)"
     ]
    }
   ],
   "source": [
    "from markupsafe import soft_unicode\n"
   ]
  },
  {
   "cell_type": "code",
   "execution_count": null,
   "metadata": {},
   "outputs": [],
   "source": []
  }
 ],
 "metadata": {
  "kernelspec": {
   "display_name": "Python 3.10.0 (conda)",
   "language": "python",
   "name": "python3"
  },
  "language_info": {
   "codemirror_mode": {
    "name": "ipython",
    "version": 3
   },
   "file_extension": ".py",
   "mimetype": "text/x-python",
   "name": "python",
   "nbconvert_exporter": "python",
   "pygments_lexer": "ipython3",
   "version": "3.7.0"
  },
  "orig_nbformat": 4,
  "vscode": {
   "interpreter": {
    "hash": "0b73b2cd3cb24dd5eb118a81255ea244ce0c5fa6397b7f5a41cb902f4bdcdea2"
   }
  }
 },
 "nbformat": 4,
 "nbformat_minor": 2
}
